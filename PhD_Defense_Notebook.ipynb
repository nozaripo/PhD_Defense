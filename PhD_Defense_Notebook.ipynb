{
  "metadata": {
    "language_info": {
      "codemirror_mode": {
        "name": "python",
        "version": 3
      },
      "file_extension": ".py",
      "mimetype": "text/x-python",
      "name": "python",
      "nbconvert_exporter": "python",
      "pygments_lexer": "ipython3",
      "version": "3.8"
    },
    "kernelspec": {
      "name": "python",
      "display_name": "Python (Pyodide)",
      "language": "python"
    }
  },
  "nbformat_minor": 4,
  "nbformat": 4,
  "cells": [
    {
      "cell_type": "markdown",
      "source": "<h1 style=\"text-align:center;\">\n    Ph.D. Dissertation Defense </h1>\n<h5 style=\"text-align:center;\">\n    by </h5>\n<h2 style=\"text-align:center;\">\n    Pouria Nozari </h2>\n\n\n<h4 style=\"text-align:left;\">\n    University of Southern California\n    <span style=\"float:right;\">\n        June 2023\n    </span>\n</h4>",
      "metadata": {}
    },
    {
      "cell_type": "code",
      "source": "from IPython.display import IFrame\nIFrame('https://docs.google.com/presentation/d/1xFLyVZ80zwUOp6v7Vg83dzzypzC242GY/edit?usp=sharing&ouid=107092017663997058736&rtpof=true&sd=true', 640, 390)",
      "metadata": {
        "trusted": true
      },
      "execution_count": 1,
      "outputs": [
        {
          "execution_count": 1,
          "output_type": "execute_result",
          "data": {
            "text/plain": "<IPython.lib.display.IFrame at 0x136aeb8>",
            "text/html": "\n        <iframe\n            width=\"640\"\n            height=\"390\"\n            src=\"https://docs.google.com/presentation/d/1xFLyVZ80zwUOp6v7Vg83dzzypzC242GY/edit?usp=sharing&ouid=107092017663997058736&rtpof=true&sd=true\"\n            frameborder=\"0\"\n            allowfullscreen\n            \n        ></iframe>\n        "
          },
          "metadata": {}
        }
      ]
    }
  ]
}